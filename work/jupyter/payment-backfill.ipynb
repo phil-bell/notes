{
 "cells": [
  {
   "cell_type": "code",
   "execution_count": null,
   "source": [
    "def backfill_requested_by(apps, schema_editor):\n",
    "    ApplicationStep = apps.get_model(\"engage\", \"ApplicationStep\")\n",
    "    application_steps = ApplicationStep.objects.filter(element_type=\"payment\")\n",
    "    application_steps.update(content_object__requested_by=F(\"application__created_by\"))\n",
    "\n",
    "class Migration(migrations.Migration):\n",
    "    dependencies = [\n",
    "        (\"payments\", \"0012_merge_20210617_0931\"),\n",
    "    ]\n",
    "    operations = [migrations.RunPython(backfill_requested_by, elidable=True,)]"
   ],
   "outputs": [],
   "metadata": {}
  }
 ],
 "metadata": {
  "orig_nbformat": 4,
  "language_info": {
   "name": "python"
  }
 },
 "nbformat": 4,
 "nbformat_minor": 2
}