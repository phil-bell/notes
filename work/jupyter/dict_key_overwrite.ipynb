{
 "cells": [
  {
   "cell_type": "code",
   "execution_count": 5,
   "metadata": {},
   "outputs": [
    {
     "name": "stdout",
     "output_type": "stream",
     "text": [
      "{'test_1': 1, 'test_2': 2}\n"
     ]
    }
   ],
   "source": [
    "first_dict = {\n",
    "    \"test_1\": 1,\n",
    "    \"test_2\": 2\n",
    "}\n",
    "\n",
    "second_dict = {**first_dict, \"test_1\": 3}\n",
    "print(second_dict)"
   ]
  }
 ],
 "metadata": {
  "interpreter": {
   "hash": "ee559acd19875b01f0b32a6c86ed108ada4374cab4800f1d02f535f2f1e03c9c"
  },
  "kernelspec": {
   "display_name": "Python 3.10.0 64-bit ('3.10.0': pyenv)",
   "language": "python",
   "name": "python3"
  },
  "language_info": {
   "codemirror_mode": {
    "name": "ipython",
    "version": 3
   },
   "file_extension": ".py",
   "mimetype": "text/x-python",
   "name": "python",
   "nbconvert_exporter": "python",
   "pygments_lexer": "ipython3",
   "version": "3.10.0"
  },
  "orig_nbformat": 4
 },
 "nbformat": 4,
 "nbformat_minor": 2
}
