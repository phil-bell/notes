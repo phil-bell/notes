{
 "metadata": {
  "language_info": {
   "codemirror_mode": {
    "name": "ipython",
    "version": 3
   },
   "file_extension": ".py",
   "mimetype": "text/x-python",
   "name": "python",
   "nbconvert_exporter": "python",
   "pygments_lexer": "ipython3",
   "version": "3.9.4"
  },
  "orig_nbformat": 2,
  "kernelspec": {
   "name": "python394jvsc74a57bd0aee8b7b246df8f9039afb4144a1f6fd8d2ca17a180786b69acc140d282b71a49",
   "display_name": "Python 3.9.2 64-bit"
  },
  "metadata": {
   "interpreter": {
    "hash": "aee8b7b246df8f9039afb4144a1f6fd8d2ca17a180786b69acc140d282b71a49"
   }
  }
 },
 "nbformat": 4,
 "nbformat_minor": 2,
 "cells": [
  {
   "cell_type": "code",
   "execution_count": 7,
   "source": [
    "team_size = 4"
   ],
   "outputs": [],
   "metadata": {}
  },
  {
   "cell_type": "code",
   "execution_count": 8,
   "source": [
    "preng_names = [\n",
    "\"Adina Milea\",\n",
    "\"Bogdana Avadanei\",\n",
    "\"Heather Legg\",\n",
    "\"India Dearlove\",\n",
    "\"James Wright\",\n",
    "\"Lindsay McDougall\",\n",
    "\"Maciej Wasilewski\",\n",
    "\"Mario Ribeiro\",\n",
    "\"Matthew Spolar\",\n",
    "\"Nandhini Lakshmi Narasimhan\",\n",
    "\"Philip Bell\",\n",
    "\"Philip Douglas\",\n",
    "\"Rohit Mohan\",\n",
    "\"Thomas Weldon\",\n",
    "\"Toby Brooks\",\n",
    "\"Michele\"\n",
    "]\n",
    "preng_teams = [preng_names[i:i + team_size] for i in range(0, len(preng_names), team_size)]\n",
    "preng_captains = [team[2] for team in preng_teams]"
   ],
   "outputs": [],
   "metadata": {}
  },
  {
   "cell_type": "code",
   "execution_count": 9,
   "source": [
    "legl_names = [\n",
    "\"Adina Milea\",\n",
    "\"Bogdana Avadanei\",\n",
    "\"Brad Cottle\",\n",
    "\"Chris Johnston\",\n",
    "\"Chris Morrow\",\n",
    "\"Donald Fogarty\",\n",
    "\"Eleanor Devey-Robson\",\n",
    "\"George Nagai\",\n",
    "\"Gerard McHugh\",\n",
    "\"Heather Legg\",\n",
    "\"India Dearlove\",\n",
    "\"Isobel MacKellar\",\n",
    "\"Jake Barnett\",\n",
    "\"James Murdoch\",\n",
    "\"James Wright\",\n",
    "\"Julia Salasky\",\n",
    "\"Jyoti Gudka\",\n",
    "\"Lauren Watson\",\n",
    "\"Lindsay McDougall\",\n",
    "\"Macchris Ilo\",\n",
    "\"Maciej Wasilewski\",\n",
    "\"Maeve Storey\",\n",
    "\"Mario Ribeiro\",\n",
    "\"Matthew Spolar\",\n",
    "\"Nandhini Lakshmi Narasimhan\",\n",
    "\"Philip Bell\",\n",
    "\"Philip Douglas\",\n",
    "\"Piers Jackson\",\n",
    "\"Robert Thorogood\",\n",
    "\"Rohit Mohan\",\n",
    "\"Rosanna Howard\",\n",
    "\"Sally Smith\",\n",
    "\"Thomas Weldon\",\n",
    "\"Toby Brooks\",\n",
    "\"Michele\"\n",
    "]\n",
    "legl_teams = [legl_names[i:i + team_size] for i in range(0, len(legl_names), team_size)]\n",
    "legl_captains = [team[1] for team in legl_teams]"
   ],
   "outputs": [],
   "metadata": {}
  },
  {
   "cell_type": "code",
   "execution_count": null,
   "source": [],
   "outputs": [],
   "metadata": {}
  },
  {
   "cell_type": "markdown",
   "source": [],
   "metadata": {}
  },
  {
   "cell_type": "code",
   "execution_count": null,
   "source": [],
   "outputs": [],
   "metadata": {}
  },
  {
   "cell_type": "markdown",
   "source": [],
   "metadata": {}
  }
 ]
}