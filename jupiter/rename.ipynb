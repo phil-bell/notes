{
 "metadata": {
  "language_info": {
   "codemirror_mode": {
    "name": "ipython",
    "version": 3
   },
   "file_extension": ".py",
   "mimetype": "text/x-python",
   "name": "python",
   "nbconvert_exporter": "python",
   "pygments_lexer": "ipython3",
   "version": "3.9.4"
  },
  "orig_nbformat": 4,
  "kernelspec": {
   "name": "python3",
   "display_name": "Python 3.9.4 64-bit"
  },
  "interpreter": {
   "hash": "aee8b7b246df8f9039afb4144a1f6fd8d2ca17a180786b69acc140d282b71a49"
  }
 },
 "nbformat": 4,
 "nbformat_minor": 2,
 "cells": [
  {
   "cell_type": "code",
   "execution_count": 4,
   "metadata": {},
   "outputs": [],
   "source": [
    "import glob, os, re\n",
    "for root, dirs, files in os.walk(\"./\"):\n",
    "    for folder in dirs:\n",
    "        os.chdir(folder)\n",
    "        print(f\"folder: {folder}\")\n",
    "        for file in glob.glob(\"*.avi\"):\n",
    "            print(f\"renameing: {file}\")\n",
    "            os.rename(file, re.sub(\"Season [0-9][0-9]\", \"\", file))\n",
    "        os.chdir(\"..\")\n"
   ]
  },
  {
   "cell_type": "code",
   "execution_count": null,
   "metadata": {},
   "outputs": [],
   "source": []
  }
 ]
}