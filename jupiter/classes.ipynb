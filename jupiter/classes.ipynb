{
 "cells": [
  {
   "cell_type": "code",
   "execution_count": 8,
   "source": [
    "class Test:\n",
    "    outside = \"outside\"\n",
    "\n",
    "    def __init__(self) -> None:\n",
    "        self.inside = \"inside\"\n",
    "\n",
    "    def run(self):\n",
    "        print(self.outside)\n",
    "        print(self.inside)\n",
    "        print(\"------\")\n",
    "\n",
    "a = Test()\n",
    "b = Test()\n",
    "a.run()\n",
    "b.run()\n",
    "a.outside = \"outside_1\"\n",
    "a.inside = \"inside_1\"\n",
    "a.run()\n",
    "b.run()"
   ],
   "outputs": [
    {
     "output_type": "stream",
     "name": "stdout",
     "text": [
      "test\n",
      "test2\n",
      "------\n",
      "test\n",
      "test2\n",
      "------\n"
     ]
    }
   ],
   "metadata": {}
  }
 ],
 "metadata": {
  "orig_nbformat": 4,
  "language_info": {
   "name": "python",
   "version": "3.9.7",
   "mimetype": "text/x-python",
   "codemirror_mode": {
    "name": "ipython",
    "version": 3
   },
   "pygments_lexer": "ipython3",
   "nbconvert_exporter": "python",
   "file_extension": ".py"
  },
  "kernelspec": {
   "name": "python3",
   "display_name": "Python 3.9.7 64-bit"
  },
  "interpreter": {
   "hash": "aee8b7b246df8f9039afb4144a1f6fd8d2ca17a180786b69acc140d282b71a49"
  }
 },
 "nbformat": 4,
 "nbformat_minor": 2
}