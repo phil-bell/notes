{
 "metadata": {
  "language_info": {
   "codemirror_mode": {
    "name": "ipython",
    "version": 3
   },
   "file_extension": ".py",
   "mimetype": "text/x-python",
   "name": "python",
   "nbconvert_exporter": "python",
   "pygments_lexer": "ipython3",
   "version": 3
  },
  "orig_nbformat": 2
 },
 "nbformat": 4,
 "nbformat_minor": 2,
 "cells": [
  {
   "cell_type": "code",
   "execution_count": null,
   "metadata": {},
   "outputs": [],
   "source": [
    "import logging\n",
    "\n",
    "from projects.pay.payments.models import Payment\n",
    "from projects.pay.payments.tasks import send_payment_receipt_emails\n",
    "\n",
    "logger = logging.getLogger(\"crowdfund\")\n",
    "\n",
    "paymeny_emails = Payment.objects.filter(email_sent)\n",
    "for payment in paymeny_emails:\n",
    "    try:\n",
    "        send_payment_receipt_emails.delay(payment.id)\n",
    "        logger.info(f\"{payment} email successfully sent\")\n",
    "    except:\n",
    "        logger.warning(\"email failed to send\")"
   ]
  },
  {
   "cell_type": "code",
   "execution_count": null,
   "metadata": {},
   "outputs": [],
   "source": [
    "completed_payments = ContactEvent.objects.filter(\n",
    "            contact_uid=self.uid, event_type=\"portal_payment_paid\"\n",
    "        )\n",
    "if completed_payments:\n",
    "    timedeltas = []\n",
    "    for payment_event in completed_payments:\n",
    "        payment_data = Payment.objects.filter(\n",
    "            pk=payment_event.data.get(\"payment_id\")\n",
    "        ).values(\"transaction_id\", \"created_at\")\n",
    "        transaction_data = Payment.objects.filter(\n",
    "            transaction=payment_data[0].get(\"transaction_id\")\n",
    "        ).values(\"transaction__completed_date\")\n",
    "        payment_created_at = payment_data[0].get(\"created_at\")\n",
    "        transaction_completed_at = transaction_data[0].get(\"transaction__completed_date\")\n",
    "        timedeltas.append(transaction_completed_at - payment_created_at)\n",
    "\n",
    "    average_timedelta = sum(timedeltas, datetime.timedelta(0)) / len(timedeltas)\n",
    "\n",
    "    return average_timedelta.total_seconds()"
   ]
  },
  {
   "cell_type": "code",
   "execution_count": null,
   "metadata": {},
   "outputs": [],
   "source": [
    "from django.db.models import F\n",
    "\n",
    "\n",
    "completed_payments = ContactEvent.objects.filter(\n",
    "            contact_uid=self.uid, event_type=\"portal_payment_paid\"\n",
    "        )\n",
    "average_timedelta = Payments.objects.filter(id__in=[event.data.get(\"payment_id\") for event in completed_payments]).aggregate(Avg(F(\"transaction__completed_date\") - F(\"created_at\")))"
   ]
  }
 ]
}